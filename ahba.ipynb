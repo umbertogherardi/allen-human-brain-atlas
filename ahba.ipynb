{
 "cells": [
  {
   "cell_type": "markdown",
   "metadata": {},
   "source": [
    "## Fetching ABHA Data"
   ]
  },
  {
   "cell_type": "code",
   "execution_count": 7,
   "metadata": {},
   "outputs": [],
   "source": [
    "import abagen"
   ]
  },
  {
   "cell_type": "code",
   "execution_count": 6,
   "metadata": {},
   "outputs": [
    {
     "name": "stdout",
     "output_type": "stream",
     "text": [
      "\n",
      "Dataset created in ./data\\microarray\n",
      "\n",
      "Downloading data from https://human.brain-map.org/api/v2/well_known_file_download/178238387 ...\n"
     ]
    },
    {
     "name": "stderr",
     "output_type": "stream",
     "text": [
      "Downloaded 425988059 of 425988059 bytes (100.0%,    0.0s remaining) ...done. (92 seconds, 1 min)\n",
      "Extracting data from ./data\\microarray\\3f48843fa893d07ca4b7a79e084598fd\\normalized_microarray_donor9861\\donor9861.zip..... done.\n"
     ]
    },
    {
     "name": "stdout",
     "output_type": "stream",
     "text": [
      "Downloading data from https://human.brain-map.org/api/v2/well_known_file_download/178238373 ...\n"
     ]
    },
    {
     "name": "stderr",
     "output_type": "stream",
     "text": [
      "Downloaded 400957002 of 400957002 bytes (100.0%,    0.0s remaining) ...done. (123 seconds, 2 min)\n",
      "Extracting data from ./data\\microarray\\3f48843fa893d07ca4b7a79e084598fd\\normalized_microarray_donor10021\\donor10021.zip..... done.\n"
     ]
    }
   ],
   "source": [
    "'''\n",
    "Obtain data from specific donors (donor 9861 and donor 10021).\n",
    "To obtain data from all available donors, pass in 'all' instead of the donor list.\n",
    "'''\n",
    "files = abagen.fetch_microarray(donors=['9861', '10021'], data_dir='./data')"
   ]
  },
  {
   "cell_type": "markdown",
   "metadata": {},
   "source": [
    "## Loading AHBA Data"
   ]
  },
  {
   "cell_type": "code",
   "execution_count": 12,
   "metadata": {},
   "outputs": [
    {
     "name": "stdout",
     "output_type": "stream",
     "text": [
      "dict_keys(['9861', '10021'])\n",
      "['annotation', 'microarray', 'ontology', 'pacall', 'probes']\n"
     ]
    }
   ],
   "source": [
    "# List donor ID keys\n",
    "print(files.keys())\n",
    "\n",
    "# List the downloaded files available for donor 9861\n",
    "print(sorted(files['9861']))"
   ]
  },
  {
   "cell_type": "markdown",
   "metadata": {},
   "source": [
    "#### See the Reference API on [abagen.io](https://abagen.readthedocs.io/en/latest/api.html#module-abagen.io) for loading ABHA data files."
   ]
  },
  {
   "cell_type": "code",
   "execution_count": 14,
   "metadata": {},
   "outputs": [
    {
     "name": "stdout",
     "output_type": "stream",
     "text": [
      "           structure_id  slab_num  well_id slab_type structure_acronym  \\\n",
      "sample_id                                                                \n",
      "1                  4077        22      594        CX            PCLa-i   \n",
      "2                  4323        11     2985        CX                Cl   \n",
      "3                  4323        18     2801        CX                Cl   \n",
      "4                  4440        18     2273        CX               LGd   \n",
      "5                  4266        17     2785        CX               CA4   \n",
      "...                 ...       ...      ...       ...               ...   \n",
      "942                4751        67     1090        CB            PV-III   \n",
      "943                4752        67     1082        CB             PV-IV   \n",
      "944                4758        67     1074        CB           PV-VIIB   \n",
      "945                4760        67     1058        CB          PV-VIIIB   \n",
      "946                4761        67     1145        CB             PV-IX   \n",
      "\n",
      "                                              structure_name  polygon_id  \\\n",
      "sample_id                                                                  \n",
      "1          paracentral lobule, anterior part, right, infe...       37470   \n",
      "2                                           claustrum, right       40517   \n",
      "3                                           claustrum, right       41516   \n",
      "4                    dorsal lateral geniculate nucleus, left       41473   \n",
      "5                                           CA4 field, right       41142   \n",
      "...                                                      ...         ...   \n",
      "942                                   III, right, paravermis       51241   \n",
      "943                                    IV, right, paravermis       51239   \n",
      "944                                  VIIB, right, paravermis       56063   \n",
      "945                                 VIIIB, right, paravermis       56061   \n",
      "946                                    IX, right, paravermis       56059   \n",
      "\n",
      "           mri_voxel_x  mri_voxel_y  mri_voxel_z  mni_x  mni_y  mni_z  \n",
      "sample_id                                                              \n",
      "1                   87           52          116    5.9  -27.7   49.7  \n",
      "2                   66           92           63   29.2   17.0   -2.9  \n",
      "3                   66           81          104   28.2  -22.8   16.8  \n",
      "4                  116           94          101  -24.6  -24.6    1.3  \n",
      "5                   63          104          106   31.1  -31.3   -7.3  \n",
      "...                ...          ...          ...    ...    ...    ...  \n",
      "942                 84          119          113    8.7  -43.4  -22.4  \n",
      "943                 84          108          122    8.5  -49.7   -8.9  \n",
      "944                 84          140          135    7.9  -72.3  -40.6  \n",
      "945                 84          154          117    8.3  -57.4  -59.0  \n",
      "946                 83          142          110    9.6  -46.7  -47.6  \n",
      "\n",
      "[946 rows x 13 columns]\n"
     ]
    }
   ],
   "source": [
    "# Print the annotation for donor 9861\n",
    "data = files['9861']\n",
    "annotation = abagen.io.read_annotation(data['annotation'])\n",
    "print(annotation)"
   ]
  },
  {
   "cell_type": "code",
   "execution_count": 15,
   "metadata": {},
   "outputs": [
    {
     "name": "stdout",
     "output_type": "stream",
     "text": [
      "                      probe_name  gene_id   gene_symbol  \\\n",
      "probe_id                                                  \n",
      "1058685              A_23_P20713      729           C8G   \n",
      "1058684   CUST_15185_PI416261804      731            C9   \n",
      "1058683             A_32_P203917      731            C9   \n",
      "1058682             A_23_P138819      736        MRPL49   \n",
      "1058681             A_24_P232500      736        MRPL49   \n",
      "...                          ...      ...           ...   \n",
      "1071207              A_32_P69683  1012195   A_32_P69683   \n",
      "1071208              A_32_P87582  1012196   A_32_P87582   \n",
      "1071209             A_32_P885445  1012197  A_32_P885445   \n",
      "1071210               A_32_P9207  1012198    A_32_P9207   \n",
      "1071211              A_32_P94122  1012199   A_32_P94122   \n",
      "\n",
      "                                          gene_name  entrez_id chromosome  \n",
      "probe_id                                                                   \n",
      "1058685   complement component 8, gamma polypeptide        733          9  \n",
      "1058684                      complement component 9        735          5  \n",
      "1058683                      complement component 9        735          5  \n",
      "1058682         mitochondrial ribosomal protein L49        740         11  \n",
      "1058681         mitochondrial ribosomal protein L49        740         11  \n",
      "...                                             ...        ...        ...  \n",
      "1071207      AGILENT probe A_32_P69683 (non-RefSeq)       <NA>        NaN  \n",
      "1071208      AGILENT probe A_32_P87582 (non-RefSeq)       <NA>        NaN  \n",
      "1071209     AGILENT probe A_32_P885445 (non-RefSeq)       <NA>        NaN  \n",
      "1071210       AGILENT probe A_32_P9207 (non-RefSeq)       <NA>        NaN  \n",
      "1071211      AGILENT probe A_32_P94122 (non-RefSeq)       <NA>        NaN  \n",
      "\n",
      "[58692 rows x 6 columns]\n"
     ]
    }
   ],
   "source": [
    "# Print the probes for donor 9861\n",
    "probes = abagen.io.read_probes(data['probes'])\n",
    "print(probes)"
   ]
  }
 ],
 "metadata": {
  "kernelspec": {
   "display_name": "ahba",
   "language": "python",
   "name": "ahba"
  },
  "language_info": {
   "codemirror_mode": {
    "name": "ipython",
    "version": 3
   },
   "file_extension": ".py",
   "mimetype": "text/x-python",
   "name": "python",
   "nbconvert_exporter": "python",
   "pygments_lexer": "ipython3",
   "version": "3.12.0"
  }
 },
 "nbformat": 4,
 "nbformat_minor": 2
}
