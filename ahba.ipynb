{
 "cells": [
  {
   "cell_type": "markdown",
   "metadata": {},
   "source": [
    "Fetching ABHA Data"
   ]
  },
  {
   "cell_type": "code",
   "execution_count": 7,
   "metadata": {},
   "outputs": [],
   "source": [
    "import abagen"
   ]
  },
  {
   "cell_type": "code",
   "execution_count": 6,
   "metadata": {},
   "outputs": [
    {
     "name": "stdout",
     "output_type": "stream",
     "text": [
      "\n",
      "Dataset created in ./data\\microarray\n",
      "\n",
      "Downloading data from https://human.brain-map.org/api/v2/well_known_file_download/178238387 ...\n"
     ]
    },
    {
     "name": "stderr",
     "output_type": "stream",
     "text": [
      "Downloaded 425988059 of 425988059 bytes (100.0%,    0.0s remaining) ...done. (92 seconds, 1 min)\n",
      "Extracting data from ./data\\microarray\\3f48843fa893d07ca4b7a79e084598fd\\normalized_microarray_donor9861\\donor9861.zip..... done.\n"
     ]
    },
    {
     "name": "stdout",
     "output_type": "stream",
     "text": [
      "Downloading data from https://human.brain-map.org/api/v2/well_known_file_download/178238373 ...\n"
     ]
    },
    {
     "name": "stderr",
     "output_type": "stream",
     "text": [
      "Downloaded 400957002 of 400957002 bytes (100.0%,    0.0s remaining) ...done. (123 seconds, 2 min)\n",
      "Extracting data from ./data\\microarray\\3f48843fa893d07ca4b7a79e084598fd\\normalized_microarray_donor10021\\donor10021.zip..... done.\n"
     ]
    }
   ],
   "source": [
    "'''\n",
    "Obtain data from specific donors (donor 9861 and donor 10021).\n",
    "To obtain data from all available donors, pass in 'all' instead of the donor list.\n",
    "'''\n",
    "files = abagen.fetch_microarray(donors=['9861', '10021'], data_dir='./data')"
   ]
  },
  {
   "cell_type": "markdown",
   "metadata": {},
   "source": []
  }
 ],
 "metadata": {
  "kernelspec": {
   "display_name": "ahba",
   "language": "python",
   "name": "ahba"
  },
  "language_info": {
   "codemirror_mode": {
    "name": "ipython",
    "version": 3
   },
   "file_extension": ".py",
   "mimetype": "text/x-python",
   "name": "python",
   "nbconvert_exporter": "python",
   "pygments_lexer": "ipython3",
   "version": "3.12.0"
  }
 },
 "nbformat": 4,
 "nbformat_minor": 2
}
