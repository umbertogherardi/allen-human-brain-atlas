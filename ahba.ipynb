{
 "cells": [
  {
   "cell_type": "markdown",
   "metadata": {},
   "source": [
    "## Fetching AHBA Data"
   ]
  },
  {
   "cell_type": "code",
   "execution_count": null,
   "metadata": {},
   "outputs": [],
   "source": [
    "import abagen\n",
    "from abagen import reporting\n",
    "import nibabel as nib\n",
    "import matplotlib.pyplot as plt \n",
    "import numpy as np"
   ]
  },
  {
   "cell_type": "markdown",
   "metadata": {},
   "source": [
    "To obtain data from all available donors, pass in ```donors='all'``` instead of a donor list."
   ]
  },
  {
   "cell_type": "code",
   "execution_count": null,
   "metadata": {},
   "outputs": [],
   "source": [
    "files = abagen.fetch_microarray(donors=['9861', '10021'], verbose=0, data_dir='./data')"
   ]
  },
  {
   "cell_type": "markdown",
   "metadata": {},
   "source": [
    "## Loading AHBA Data"
   ]
  },
  {
   "cell_type": "markdown",
   "metadata": {},
   "source": [
    "#### See the Reference API on [abagen.io](https://abagen.readthedocs.io/en/latest/api.html#module-abagen.io) for a comprehensive list of functions that assist with loading ABHA data files."
   ]
  },
  {
   "cell_type": "code",
   "execution_count": null,
   "metadata": {},
   "outputs": [],
   "source": [
    "# List donor ID keys\n",
    "print(files.keys())\n",
    "\n",
    "# List the downloaded files available for donor 9861\n",
    "sorted(files['9861'])"
   ]
  },
  {
   "cell_type": "code",
   "execution_count": null,
   "metadata": {},
   "outputs": [],
   "source": [
    "# Print the annotation for donor 9861\n",
    "data = files['9861']\n",
    "annotation = abagen.io.read_annotation(data['annotation'])\n",
    "annotation"
   ]
  },
  {
   "cell_type": "code",
   "execution_count": null,
   "metadata": {},
   "outputs": [],
   "source": [
    "# Print the probes for donor 9861\n",
    "probes = abagen.io.read_probes(data['probes'])\n",
    "probes"
   ]
  },
  {
   "cell_type": "markdown",
   "metadata": {},
   "source": [
    "## Parcellations"
   ]
  },
  {
   "cell_type": "markdown",
   "metadata": {},
   "source": [
    "#### Demo Parcellation"
   ]
  },
  {
   "cell_type": "markdown",
   "metadata": {},
   "source": [
    "```abagen.fetch_desikan_killiany``` will return a dictionary with two keys: \n",
    "1. ```image```: Filepath to a NIFTI image containing the atlas data.\n",
    "2. ```info```: Filepath to a CSV file containing extra parcellation info.\n"
   ]
  },
  {
   "cell_type": "code",
   "execution_count": null,
   "metadata": {},
   "outputs": [],
   "source": [
    "atlas = abagen.fetch_desikan_killiany()\n",
    "\n",
    "im = nib.load(atlas['image'])\n",
    "\n",
    "# Image type should be a 'nibabel.nifti1.Nifti1Image'\n",
    "# print(type(im))\n",
    "\n",
    "# View metadata\n",
    "# print(im.header)\n",
    "\n",
    "# Get the shape of the numpy array\n",
    "im_data = im.get_fdata()\n",
    "print(im_data.shape)\n",
    "\n",
    "for i in range(10, len(im_data), 20):\n",
    "    plt.imshow(im_data[i], cmap=\"bone\")\n",
    "    plt.axis('off')\n",
    "    plt.show()"
   ]
  },
  {
   "cell_type": "markdown",
   "metadata": {},
   "source": [
    "#### Individualized Parcellation"
   ]
  },
  {
   "cell_type": "code",
   "execution_count": null,
   "metadata": {},
   "outputs": [],
   "source": [
    "atlas = abagen.fetch_desikan_killiany(native=True)\n",
    "\n",
    "for key in atlas['image']:\n",
    "    im = nib.load(atlas['image'][key])\n",
    "    im_data = im.get_fdata()\n",
    "    print(f\"Donor {key}\")\n",
    "    plt.imshow(im_data[100], cmap=\"bone\")\n",
    "    plt.axis('off')\n",
    "    plt.show()"
   ]
  },
  {
   "cell_type": "markdown",
   "metadata": {},
   "source": [
    "## Parcellating Expression Data"
   ]
  },
  {
   "cell_type": "markdown",
   "metadata": {},
   "source": [
    "#### See the [abagen docs](https://abagen.readthedocs.io/en/latest/user_guide/expression.html) for more information on parcellating expression data."
   ]
  },
  {
   "cell_type": "markdown",
   "metadata": {},
   "source": [
    "get_expression_data assigns [microarray](https://www.youtube.com/watch?v=NgRfc6atXQ8) gene expression data to the ROIs defined in the atlas['img'] argument. For our purposes, this is the Allen Human Brain atlas for each donor.\n",
    "\n",
    "Matching of microarray samples to parcels in atlas is done via a [multi-step process](https://abagen.readthedocs.io/en/stable/generated/abagen.get_expression_data.html):\n",
    "1. Determine if the sample falls directly within a parcel.\n",
    "\n",
    "2. Check to see if there are nearby parcels by slowly expanding the search space to include nearby voxels, up to a specified distance (specified via the tolerance parameter).\n",
    "\n",
    "3. If there are multiple nearby parcels, the sample is assigned to the closest parcel, as determined by the parcel centroid.\n",
    "\n",
    "By default, data are normalized using a scaled robust [sigmoid function](https://en.wikipedia.org/wiki/Sigmoid_function) such that the expression values for a given gene will range from 0-1.\n",
    "A value of 0 indicates the region with the lowest gene expression, while a value of 1 indicates the region with the highest.\n",
    "\n",
    "Note that the generated pandas.DataFrame is an aggregate of the donor argument/s.\n",
    "\n",
    "Interpreting the DataFrame:\n",
    "- DataFrame rows correspond to region labels as defined in the atlas image.\n",
    "- DataFrame columns correspond to genes.\n",
    "- Entry values are microarray expression data normalized and aggregated across selected donors."
   ]
  },
  {
   "cell_type": "code",
   "execution_count": null,
   "metadata": {},
   "outputs": [],
   "source": [
    "# Use all donor image data\n",
    "# expression = abagen.get_expression_data(atlas['image'])\n",
    "\n",
    "# When using a volumetric image, it is recommended to include the additional information on the parcellation\n",
    "# Note that the following function call loads all our specified donor data into memory, and will therefore be quite time-consuming\n",
    "expression = abagen.get_expression_data(atlas['image'], atlas['info'], donors=['9861', '10021'])\n",
    "\n",
    "expression"
   ]
  },
  {
   "cell_type": "code",
   "execution_count": null,
   "metadata": {},
   "outputs": [],
   "source": [
    "# Note that some regions may not be matched to any tissue samples\n",
    "nan_rows = expression.isna().any(axis=1)\n",
    "\n",
    "for row, is_nan in nan_rows.items():\n",
    "    if (is_nan):\n",
    "        print(row, is_nan)\n",
    "\n",
    "expression.loc[[18, 45]]"
   ]
  },
  {
   "cell_type": "markdown",
   "metadata": {},
   "source": [
    "#### Ensuring a Dense Matrix"
   ]
  },
  {
   "cell_type": "markdown",
   "metadata": {},
   "source": [
    "Microarray expression data may be missing (especially in right hemisphere regions), since not all donors have tissue samples for these areas.\n",
    "\n",
    "abagen.get_expression_data() takes the following steps for each tissue sample:\n",
    "\n",
    "1. Determine if the sample falls directly within a region of ```atlas```.\n",
    "2. Check to see if the sample is close to any regions by slowly expanding the search space to include nearby voxels up to a particular threshold (specified using the ```tolerance``` parameter).\n",
    "3. If there are multiple nearby regions, determine which region is closer by calculating the center-of-mass of the abutting reions.\n",
    "\n",
    "Regions with no samples will have entry values of NaN. \n",
    "To resolve some/all empty entry values, we can utilize the two following techniques:\n",
    "1. Use the ```missing``` parameter for localized data filling.\n",
    "2. Duplicate samples across the main brain hemispheres with the ```lr_mirror``` parameter."
   ]
  },
  {
   "cell_type": "markdown",
   "metadata": {},
   "source": [
    "##### Using the ```missing``` Parameter"
   ]
  },
  {
   "cell_type": "markdown",
   "metadata": {},
   "source": [
    "The ```missing``` parameter accepts three options:\n",
    "1. ```None``` (default)\n",
    "2. ```centroids```: Empty regions in the atlas will be assigned the expression values of the tissue sample falling closest to the centroid of that region. This is only done when all donors are missing data for a particular region. A weighted average of the matched samples are taken across donors, where the weights are calculated as the inverse distance between the tissue sample matched to the parcel centroid for each donor.\n",
    "3. ```interpolate```: Expression values will be interpolated in the empty regions by assigning every node in the region the expression of the nearest tissue sample. This interpolation is done independently for every donor, irrespective of whether other donors have tissue samples that fall within a given region."
   ]
  },
  {
   "cell_type": "code",
   "execution_count": null,
   "metadata": {},
   "outputs": [],
   "source": [
    "# Setting the missing parameter will guarantee a dense expression matrix from an abagen.get_expression_data() function call\n",
    "exp_centroids = abagen.get_expression_data(atlas['image'], atlas['info'], donors=['9861', '10021'], missing='centroids')\n",
    "\n",
    "# Note that our NaN values have now been replaced with the nearest tissue expression values\n",
    "exp_centroids.loc[[18, 45]]"
   ]
  },
  {
   "cell_type": "markdown",
   "metadata": {},
   "source": [
    "##### Duplicating Samples with the ```lr_mirror``` Parameter"
   ]
  },
  {
   "cell_type": "markdown",
   "metadata": {},
   "source": [
    "Most regions in the left hemisphere are likely to be matched to at least one sample, while right-hemisphere regions are less likely. The ```lr_mirror``` parameter allows samples to be mirrored acorss the left/right hemisphere axis. \n",
    "The following four options are available for ```lr_mirror```:\n",
    "1. ```None``` (default)\n",
    "2. ```bidirectional```: All available samples from the left hemisphere are duplicated and mirrored to the right, and vice-versa from right to left.\n",
    "3. ```leftright```: Mirror only the left hemisphere to the right.\n",
    "4. ```rightleft```: Mirror only the right hemisphere to the left."
   ]
  },
  {
   "cell_type": "code",
   "execution_count": null,
   "metadata": {},
   "outputs": [],
   "source": [
    "# The lr_mirror sample will not guarantee a dense matrix and will change the expression values of all regions, \n",
    "# not just those that are missing data\n",
    "exp_mirror = abagen.get_expression_data(atlas['image'], atlas['info'], donors=['9861', '10021'], lr_mirror=\"bidirectional\")\n",
    "\n",
    "exp_mirror.loc[[18, 45]]"
   ]
  },
  {
   "cell_type": "markdown",
   "metadata": {},
   "source": [
    "## Probe Selection"
   ]
  },
  {
   "cell_type": "markdown",
   "metadata": {},
   "source": [
    "Probes can index the same gene, thereby causing redundant AHBA data. Probes can be selected and condensed to resolve redundancy using the ```probe_selection``` argument.\n",
    "```probe_selection``` contains eight total options, though the ```differential stability``` (default) option is recommended by the official [abagen docs](https://abagen.readthedocs.io/en/stable/user_guide/probes.html)."
   ]
  },
  {
   "cell_type": "markdown",
   "metadata": {},
   "source": [
    "#### Selecting a Representative Probe"
   ]
  },
  {
   "cell_type": "markdown",
   "metadata": {},
   "source": [
    "The following methods select a single probe from each redundant group, based off a specific selection criteria:\n",
    "- ```max_intensity```: Select the probe with the highest average expression across all samples.\n",
    "- ```max_variability```: Select the probe with the highest variance in expression across all samples.\n",
    "- ```pc_loading```: Select the probe with the highest loading value on the first principle component derived from the probe microarray expression.\n",
    "- ```corr_intensity```: Select the probe with the highest correlation to other probes across all samples, using ```max_intensity``` as a fallback in the case of exactly two probes.\n",
    "- ```corr_variance```: Select the probe with the highest correlation to other probes across all samples, using ```max_variance``` as a fallback in the case of exactly two probes.\n",
    "- ```diff_stability```: Compute the [Spearman correlation](https://en.wikipedia.org/wiki/Spearman%27s_rank_correlation_coefficient) of microarray expression values for each probe across brain regions for every pair of donors. The probe with the highest average correlation is selected.\n",
    "- ```rnaseq```: Compute the Spearman correlation of microarray expression values for each probe across brain regions with RNAseq data for the corresponding gene. Only applies to RNAseq data donors 9861 and 10021."
   ]
  },
  {
   "cell_type": "code",
   "execution_count": 52,
   "metadata": {},
   "outputs": [
    {
     "ename": "KeyboardInterrupt",
     "evalue": "",
     "output_type": "error",
     "traceback": [
      "\u001b[1;31m---------------------------------------------------------------------------\u001b[0m",
      "\u001b[1;31mTypeError\u001b[0m                                 Traceback (most recent call last)",
      "File \u001b[1;32mc:\\Users\\umber\\OneDrive\\Documents\\Research\\minds\\ahba\\Lib\\site-packages\\pandas\\core\\groupby\\groupby.py:1824\u001b[0m, in \u001b[0;36mGroupBy.apply\u001b[1;34m(self, func, include_groups, *args, **kwargs)\u001b[0m\n\u001b[0;32m   1823\u001b[0m \u001b[38;5;28;01mtry\u001b[39;00m:\n\u001b[1;32m-> 1824\u001b[0m     result \u001b[38;5;241m=\u001b[39m \u001b[38;5;28;43mself\u001b[39;49m\u001b[38;5;241;43m.\u001b[39;49m\u001b[43m_python_apply_general\u001b[49m\u001b[43m(\u001b[49m\u001b[43mf\u001b[49m\u001b[43m,\u001b[49m\u001b[43m \u001b[49m\u001b[38;5;28;43mself\u001b[39;49m\u001b[38;5;241;43m.\u001b[39;49m\u001b[43m_selected_obj\u001b[49m\u001b[43m)\u001b[49m\n\u001b[0;32m   1825\u001b[0m     \u001b[38;5;28;01mif\u001b[39;00m (\n\u001b[0;32m   1826\u001b[0m         \u001b[38;5;129;01mnot\u001b[39;00m \u001b[38;5;28misinstance\u001b[39m(\u001b[38;5;28mself\u001b[39m\u001b[38;5;241m.\u001b[39mobj, Series)\n\u001b[0;32m   1827\u001b[0m         \u001b[38;5;129;01mand\u001b[39;00m \u001b[38;5;28mself\u001b[39m\u001b[38;5;241m.\u001b[39m_selection \u001b[38;5;129;01mis\u001b[39;00m \u001b[38;5;28;01mNone\u001b[39;00m\n\u001b[0;32m   1828\u001b[0m         \u001b[38;5;129;01mand\u001b[39;00m \u001b[38;5;28mself\u001b[39m\u001b[38;5;241m.\u001b[39m_selected_obj\u001b[38;5;241m.\u001b[39mshape \u001b[38;5;241m!=\u001b[39m \u001b[38;5;28mself\u001b[39m\u001b[38;5;241m.\u001b[39m_obj_with_exclusions\u001b[38;5;241m.\u001b[39mshape\n\u001b[0;32m   1829\u001b[0m     ):\n",
      "File \u001b[1;32mc:\\Users\\umber\\OneDrive\\Documents\\Research\\minds\\ahba\\Lib\\site-packages\\pandas\\core\\groupby\\groupby.py:1885\u001b[0m, in \u001b[0;36mGroupBy._python_apply_general\u001b[1;34m(self, f, data, not_indexed_same, is_transform, is_agg)\u001b[0m\n\u001b[0;32m   1859\u001b[0m \u001b[38;5;250m\u001b[39m\u001b[38;5;124;03m\"\"\"\u001b[39;00m\n\u001b[0;32m   1860\u001b[0m \u001b[38;5;124;03mApply function f in python space\u001b[39;00m\n\u001b[0;32m   1861\u001b[0m \n\u001b[1;32m   (...)\u001b[0m\n\u001b[0;32m   1883\u001b[0m \u001b[38;5;124;03m    data after applying f\u001b[39;00m\n\u001b[0;32m   1884\u001b[0m \u001b[38;5;124;03m\"\"\"\u001b[39;00m\n\u001b[1;32m-> 1885\u001b[0m values, mutated \u001b[38;5;241m=\u001b[39m \u001b[38;5;28;43mself\u001b[39;49m\u001b[38;5;241;43m.\u001b[39;49m\u001b[43m_grouper\u001b[49m\u001b[38;5;241;43m.\u001b[39;49m\u001b[43mapply_groupwise\u001b[49m\u001b[43m(\u001b[49m\u001b[43mf\u001b[49m\u001b[43m,\u001b[49m\u001b[43m \u001b[49m\u001b[43mdata\u001b[49m\u001b[43m,\u001b[49m\u001b[43m \u001b[49m\u001b[38;5;28;43mself\u001b[39;49m\u001b[38;5;241;43m.\u001b[39;49m\u001b[43maxis\u001b[49m\u001b[43m)\u001b[49m\n\u001b[0;32m   1886\u001b[0m \u001b[38;5;28;01mif\u001b[39;00m not_indexed_same \u001b[38;5;129;01mis\u001b[39;00m \u001b[38;5;28;01mNone\u001b[39;00m:\n",
      "File \u001b[1;32mc:\\Users\\umber\\OneDrive\\Documents\\Research\\minds\\ahba\\Lib\\site-packages\\pandas\\core\\groupby\\ops.py:918\u001b[0m, in \u001b[0;36mBaseGrouper.apply_groupwise\u001b[1;34m(self, f, data, axis)\u001b[0m\n\u001b[0;32m    917\u001b[0m group_axes \u001b[38;5;241m=\u001b[39m group\u001b[38;5;241m.\u001b[39maxes\n\u001b[1;32m--> 918\u001b[0m res \u001b[38;5;241m=\u001b[39m \u001b[43mf\u001b[49m\u001b[43m(\u001b[49m\u001b[43mgroup\u001b[49m\u001b[43m)\u001b[49m\n\u001b[0;32m    919\u001b[0m \u001b[38;5;28;01mif\u001b[39;00m \u001b[38;5;129;01mnot\u001b[39;00m mutated \u001b[38;5;129;01mand\u001b[39;00m \u001b[38;5;129;01mnot\u001b[39;00m _is_indexed_like(res, group_axes, axis):\n",
      "File \u001b[1;32mc:\\Users\\umber\\OneDrive\\Documents\\Research\\minds\\ahba\\Lib\\site-packages\\abagen\\probes_.py:370\u001b[0m, in \u001b[0;36m_max_loading\u001b[1;34m(df)\u001b[0m\n\u001b[0;32m    369\u001b[0m data \u001b[38;5;241m=\u001b[39m np\u001b[38;5;241m.\u001b[39masarray(df)\n\u001b[1;32m--> 370\u001b[0m data \u001b[38;5;241m=\u001b[39m data \u001b[38;5;241m-\u001b[39m \u001b[43mdata\u001b[49m\u001b[38;5;241;43m.\u001b[39;49m\u001b[43mmean\u001b[49m\u001b[43m(\u001b[49m\u001b[43maxis\u001b[49m\u001b[38;5;241;43m=\u001b[39;49m\u001b[38;5;241;43m0\u001b[39;49m\u001b[43m,\u001b[49m\u001b[43m \u001b[49m\u001b[43mkeepdims\u001b[49m\u001b[38;5;241;43m=\u001b[39;49m\u001b[38;5;28;43;01mTrue\u001b[39;49;00m\u001b[43m)\u001b[49m\n\u001b[0;32m    372\u001b[0m \u001b[38;5;66;03m# svd() is faster than eig() here because we don't need to construct the\u001b[39;00m\n\u001b[0;32m    373\u001b[0m \u001b[38;5;66;03m# covariance matrix\u001b[39;00m\n",
      "File \u001b[1;32mc:\\Users\\umber\\OneDrive\\Documents\\Research\\minds\\ahba\\Lib\\site-packages\\numpy\\core\\_methods.py:121\u001b[0m, in \u001b[0;36m_mean\u001b[1;34m(a, axis, dtype, out, keepdims, where)\u001b[0m\n\u001b[0;32m    120\u001b[0m \u001b[38;5;28;01mwith\u001b[39;00m _no_nep50_warning():\n\u001b[1;32m--> 121\u001b[0m     ret \u001b[38;5;241m=\u001b[39m \u001b[43mum\u001b[49m\u001b[38;5;241;43m.\u001b[39;49m\u001b[43mtrue_divide\u001b[49m\u001b[43m(\u001b[49m\n\u001b[0;32m    122\u001b[0m \u001b[43m            \u001b[49m\u001b[43mret\u001b[49m\u001b[43m,\u001b[49m\u001b[43m \u001b[49m\u001b[43mrcount\u001b[49m\u001b[43m,\u001b[49m\u001b[43m \u001b[49m\u001b[43mout\u001b[49m\u001b[38;5;241;43m=\u001b[39;49m\u001b[43mret\u001b[49m\u001b[43m,\u001b[49m\u001b[43m \u001b[49m\u001b[43mcasting\u001b[49m\u001b[38;5;241;43m=\u001b[39;49m\u001b[38;5;124;43m'\u001b[39;49m\u001b[38;5;124;43munsafe\u001b[39;49m\u001b[38;5;124;43m'\u001b[39;49m\u001b[43m,\u001b[49m\u001b[43m \u001b[49m\u001b[43msubok\u001b[49m\u001b[38;5;241;43m=\u001b[39;49m\u001b[38;5;28;43;01mFalse\u001b[39;49;00m\u001b[43m)\u001b[49m\n\u001b[0;32m    123\u001b[0m \u001b[38;5;28;01mif\u001b[39;00m is_float16_result \u001b[38;5;129;01mand\u001b[39;00m out \u001b[38;5;129;01mis\u001b[39;00m \u001b[38;5;28;01mNone\u001b[39;00m:\n",
      "\u001b[1;31mTypeError\u001b[0m: unsupported operand type(s) for /: 'str' and 'int'",
      "\nDuring handling of the above exception, another exception occurred:\n",
      "\u001b[1;31mKeyboardInterrupt\u001b[0m                         Traceback (most recent call last)",
      "Cell \u001b[1;32mIn[52], line 2\u001b[0m\n\u001b[0;32m      1\u001b[0m \u001b[38;5;66;03m# Example of representative probe selection\u001b[39;00m\n\u001b[1;32m----> 2\u001b[0m exp_pc_load \u001b[38;5;241m=\u001b[39m \u001b[43mabagen\u001b[49m\u001b[38;5;241;43m.\u001b[39;49m\u001b[43mget_expression_data\u001b[49m\u001b[43m(\u001b[49m\u001b[43matlas\u001b[49m\u001b[43m[\u001b[49m\u001b[38;5;124;43m'\u001b[39;49m\u001b[38;5;124;43mimage\u001b[39;49m\u001b[38;5;124;43m'\u001b[39;49m\u001b[43m]\u001b[49m\u001b[43m,\u001b[49m\u001b[43m \u001b[49m\u001b[43mprobe_selection\u001b[49m\u001b[38;5;241;43m=\u001b[39;49m\u001b[38;5;124;43m'\u001b[39;49m\u001b[38;5;124;43mpc_loading\u001b[39;49m\u001b[38;5;124;43m'\u001b[39;49m\u001b[43m)\u001b[49m\n",
      "File \u001b[1;32mc:\\Users\\umber\\OneDrive\\Documents\\Research\\minds\\ahba\\Lib\\site-packages\\abagen\\allen.py:444\u001b[0m, in \u001b[0;36mget_expression_data\u001b[1;34m(atlas, atlas_info, ibf_threshold, probe_selection, donor_probes, sim_threshold, lr_mirror, exact, missing, tolerance, sample_norm, gene_norm, norm_matched, norm_structures, region_agg, agg_metric, corrected_mni, reannotated, return_counts, return_donors, return_report, donors, data_dir, verbose, n_proc)\u001b[0m\n\u001b[0;32m    437\u001b[0m probe_info \u001b[38;5;241m=\u001b[39m probes_\u001b[38;5;241m.\u001b[39mfilter_probes(flatten_dict(files, \u001b[38;5;124m'\u001b[39m\u001b[38;5;124mpacall\u001b[39m\u001b[38;5;124m'\u001b[39m),\n\u001b[0;32m    438\u001b[0m                                    annotation, probe_info,\n\u001b[0;32m    439\u001b[0m                                    threshold\u001b[38;5;241m=\u001b[39mibf_threshold)\n\u001b[0;32m    441\u001b[0m \u001b[38;5;66;03m# get probe-reduced microarray expression data for all donors based on\u001b[39;00m\n\u001b[0;32m    442\u001b[0m \u001b[38;5;66;03m# selection method; this will be a list of gene x sample dataframes (one\u001b[39;00m\n\u001b[0;32m    443\u001b[0m \u001b[38;5;66;03m# for each donor)\u001b[39;00m\n\u001b[1;32m--> 444\u001b[0m microarray \u001b[38;5;241m=\u001b[39m \u001b[43mprobes_\u001b[49m\u001b[38;5;241;43m.\u001b[39;49m\u001b[43mcollapse_probes\u001b[49m\u001b[43m(\u001b[49m\u001b[43mflatten_dict\u001b[49m\u001b[43m(\u001b[49m\u001b[43mfiles\u001b[49m\u001b[43m,\u001b[49m\u001b[43m \u001b[49m\u001b[38;5;124;43m'\u001b[39;49m\u001b[38;5;124;43mmicroarray\u001b[39;49m\u001b[38;5;124;43m'\u001b[39;49m\u001b[43m)\u001b[49m\u001b[43m,\u001b[49m\n\u001b[0;32m    445\u001b[0m \u001b[43m                                     \u001b[49m\u001b[43mannotation\u001b[49m\u001b[43m,\u001b[49m\u001b[43m \u001b[49m\u001b[43mprobe_info\u001b[49m\u001b[43m,\u001b[49m\n\u001b[0;32m    446\u001b[0m \u001b[43m                                     \u001b[49m\u001b[43mmethod\u001b[49m\u001b[38;5;241;43m=\u001b[39;49m\u001b[43mprobe_selection\u001b[49m\u001b[43m,\u001b[49m\n\u001b[0;32m    447\u001b[0m \u001b[43m                                     \u001b[49m\u001b[43mdonor_probes\u001b[49m\u001b[38;5;241;43m=\u001b[39;49m\u001b[43mdonor_probes\u001b[49m\u001b[43m)\u001b[49m\n\u001b[0;32m    448\u001b[0m centroids \u001b[38;5;241m=\u001b[39m []\n\u001b[0;32m    449\u001b[0m counts \u001b[38;5;241m=\u001b[39m pd\u001b[38;5;241m.\u001b[39mDataFrame(np\u001b[38;5;241m.\u001b[39mzeros((\u001b[38;5;28mlen\u001b[39m(all_labels) \u001b[38;5;241m+\u001b[39m \u001b[38;5;241m1\u001b[39m, \u001b[38;5;28mlen\u001b[39m(microarray)),\n\u001b[0;32m    450\u001b[0m                                dtype\u001b[38;5;241m=\u001b[39m\u001b[38;5;28mint\u001b[39m),\n\u001b[0;32m    451\u001b[0m                       index\u001b[38;5;241m=\u001b[39mnp\u001b[38;5;241m.\u001b[39mappend([\u001b[38;5;241m0\u001b[39m], all_labels),\n\u001b[0;32m    452\u001b[0m                       columns\u001b[38;5;241m=\u001b[39mmicroarray\u001b[38;5;241m.\u001b[39mkeys())\n",
      "File \u001b[1;32mc:\\Users\\umber\\OneDrive\\Documents\\Research\\minds\\ahba\\Lib\\site-packages\\abagen\\probes_.py:732\u001b[0m, in \u001b[0;36mcollapse_probes\u001b[1;34m(microarray, annotation, probes, method, donor_probes)\u001b[0m\n\u001b[0;32m    729\u001b[0m \u001b[38;5;66;03m# now, \"collect\" the probes based on the provided `method`\u001b[39;00m\n\u001b[0;32m    730\u001b[0m \u001b[38;5;28;01mif\u001b[39;00m method \u001b[38;5;129;01min\u001b[39;00m AGG_METHODS \u001b[38;5;129;01mor\u001b[39;00m donor_probes \u001b[38;5;241m==\u001b[39m \u001b[38;5;124m'\u001b[39m\u001b[38;5;124maggregate\u001b[39m\u001b[38;5;124m'\u001b[39m:\n\u001b[0;32m    731\u001b[0m     \u001b[38;5;66;03m# perform the collection function for all donors, together\u001b[39;00m\n\u001b[1;32m--> 732\u001b[0m     microarray \u001b[38;5;241m=\u001b[39m \u001b[43mcollfunc\u001b[49m\u001b[43m(\u001b[49m\u001b[43mmicroarray\u001b[49m\u001b[43m,\u001b[49m\u001b[43m \u001b[49m\u001b[43mprobes\u001b[49m\u001b[43m,\u001b[49m\u001b[43m \u001b[49m\u001b[43mannotation\u001b[49m\u001b[43m)\u001b[49m\n\u001b[0;32m    733\u001b[0m \u001b[38;5;28;01melif\u001b[39;00m donor_probes \u001b[38;5;241m==\u001b[39m \u001b[38;5;124m'\u001b[39m\u001b[38;5;124mindependent\u001b[39m\u001b[38;5;124m'\u001b[39m:\n\u001b[0;32m    734\u001b[0m     \u001b[38;5;66;03m# perform the collection function for each donor separately\u001b[39;00m\n\u001b[0;32m    735\u001b[0m     \u001b[38;5;28;01mfor\u001b[39;00m donor \u001b[38;5;129;01min\u001b[39;00m microarray:\n",
      "File \u001b[1;32mc:\\Users\\umber\\OneDrive\\Documents\\Research\\minds\\ahba\\Lib\\site-packages\\abagen\\probes_.py:497\u001b[0m, in \u001b[0;36m_collapse\u001b[1;34m(expression, probes, method, *args, **kwargs)\u001b[0m\n\u001b[0;32m    493\u001b[0m     \u001b[38;5;28;01mraise\u001b[39;00m \u001b[38;5;167;01mValueError\u001b[39;00m(\u001b[38;5;124mf\u001b[39m\u001b[38;5;124m'\u001b[39m\u001b[38;5;124mProvided method \u001b[39m\u001b[38;5;132;01m{\u001b[39;00mmethod\u001b[38;5;132;01m}\u001b[39;00m\u001b[38;5;124m is invalid. Please check \u001b[39m\u001b[38;5;124m'\u001b[39m\n\u001b[0;32m    494\u001b[0m                      \u001b[38;5;124m'\u001b[39m\u001b[38;5;124minputs and try again.\u001b[39m\u001b[38;5;124m'\u001b[39m)\n\u001b[0;32m    496\u001b[0m info \u001b[38;5;241m=\u001b[39m pd\u001b[38;5;241m.\u001b[39mmerge(probes[[\u001b[38;5;124m'\u001b[39m\u001b[38;5;124mgene_symbol\u001b[39m\u001b[38;5;124m'\u001b[39m]], probe_exp, on\u001b[38;5;241m=\u001b[39m\u001b[38;5;124m'\u001b[39m\u001b[38;5;124mprobe_id\u001b[39m\u001b[38;5;124m'\u001b[39m)\n\u001b[1;32m--> 497\u001b[0m \u001b[38;5;28;01mreturn\u001b[39;00m \u001b[43m_groupby_and_apply\u001b[49m\u001b[43m(\u001b[49m\u001b[43mexpression\u001b[49m\u001b[43m,\u001b[49m\u001b[43m \u001b[49m\u001b[43mprobes\u001b[49m\u001b[43m,\u001b[49m\u001b[43m \u001b[49m\u001b[43minfo\u001b[49m\u001b[43m,\u001b[49m\u001b[43m \u001b[49m\u001b[43magg\u001b[49m\u001b[43m)\u001b[49m\n",
      "File \u001b[1;32mc:\\Users\\umber\\OneDrive\\Documents\\Research\\minds\\ahba\\Lib\\site-packages\\abagen\\probes_.py:181\u001b[0m, in \u001b[0;36m_groupby_and_apply\u001b[1;34m(expression, probes, info, applyfunc)\u001b[0m\n\u001b[0;32m    151\u001b[0m \u001b[38;5;250m\u001b[39m\u001b[38;5;124;03m\"\"\"\u001b[39;00m\n\u001b[0;32m    152\u001b[0m \u001b[38;5;124;03mSubsets `expression` based on most representative probe\u001b[39;00m\n\u001b[0;32m    153\u001b[0m \n\u001b[1;32m   (...)\u001b[0m\n\u001b[0;32m    177\u001b[0m \u001b[38;5;124;03m    genes\u001b[39;00m\n\u001b[0;32m    178\u001b[0m \u001b[38;5;124;03m\"\"\"\u001b[39;00m\n\u001b[0;32m    180\u001b[0m \u001b[38;5;66;03m# group probes by gene and get probe corresponding to relevant feature\u001b[39;00m\n\u001b[1;32m--> 181\u001b[0m retained \u001b[38;5;241m=\u001b[39m \u001b[43minfo\u001b[49m\u001b[38;5;241;43m.\u001b[39;49m\u001b[43mgroupby\u001b[49m\u001b[43m(\u001b[49m\u001b[38;5;124;43m'\u001b[39;49m\u001b[38;5;124;43mgene_symbol\u001b[39;49m\u001b[38;5;124;43m'\u001b[39;49m\u001b[43m)\u001b[49m\u001b[38;5;241;43m.\u001b[39;49m\u001b[43mapply\u001b[49m\u001b[43m(\u001b[49m\u001b[43mapplyfunc\u001b[49m\u001b[43m)\u001b[49m\u001b[38;5;241m.\u001b[39mdropna()\u001b[38;5;241m.\u001b[39msqueeze()\n\u001b[0;32m    182\u001b[0m probes \u001b[38;5;241m=\u001b[39m probes\u001b[38;5;241m.\u001b[39mloc[\u001b[38;5;28msorted\u001b[39m(retained)]\u001b[38;5;241m.\u001b[39msort_values(\u001b[38;5;124m'\u001b[39m\u001b[38;5;124mgene_symbol\u001b[39m\u001b[38;5;124m'\u001b[39m)\n\u001b[0;32m    184\u001b[0m \u001b[38;5;66;03m# subset expression dataframes to retain only desired probes\u001b[39;00m\n",
      "File \u001b[1;32mc:\\Users\\umber\\OneDrive\\Documents\\Research\\minds\\ahba\\Lib\\site-packages\\pandas\\core\\groupby\\groupby.py:1846\u001b[0m, in \u001b[0;36mGroupBy.apply\u001b[1;34m(self, func, include_groups, *args, **kwargs)\u001b[0m\n\u001b[0;32m   1830\u001b[0m             warnings\u001b[38;5;241m.\u001b[39mwarn(\n\u001b[0;32m   1831\u001b[0m                 message\u001b[38;5;241m=\u001b[39m_apply_groupings_depr\u001b[38;5;241m.\u001b[39mformat(\n\u001b[0;32m   1832\u001b[0m                     \u001b[38;5;28mtype\u001b[39m(\u001b[38;5;28mself\u001b[39m)\u001b[38;5;241m.\u001b[39m\u001b[38;5;18m__name__\u001b[39m, \u001b[38;5;124m\"\u001b[39m\u001b[38;5;124mapply\u001b[39m\u001b[38;5;124m\"\u001b[39m\n\u001b[1;32m   (...)\u001b[0m\n\u001b[0;32m   1835\u001b[0m                 stacklevel\u001b[38;5;241m=\u001b[39mfind_stack_level(),\n\u001b[0;32m   1836\u001b[0m             )\n\u001b[0;32m   1837\u001b[0m     \u001b[38;5;28;01mexcept\u001b[39;00m \u001b[38;5;167;01mTypeError\u001b[39;00m:\n\u001b[0;32m   1838\u001b[0m         \u001b[38;5;66;03m# gh-20949\u001b[39;00m\n\u001b[0;32m   1839\u001b[0m         \u001b[38;5;66;03m# try again, with .apply acting as a filtering\u001b[39;00m\n\u001b[1;32m   (...)\u001b[0m\n\u001b[0;32m   1843\u001b[0m         \u001b[38;5;66;03m# fails on *some* columns, e.g. a numeric operation\u001b[39;00m\n\u001b[0;32m   1844\u001b[0m         \u001b[38;5;66;03m# on a string grouper column\u001b[39;00m\n\u001b[1;32m-> 1846\u001b[0m         \u001b[38;5;28;01mreturn\u001b[39;00m \u001b[38;5;28;43mself\u001b[39;49m\u001b[38;5;241;43m.\u001b[39;49m\u001b[43m_python_apply_general\u001b[49m\u001b[43m(\u001b[49m\u001b[43mf\u001b[49m\u001b[43m,\u001b[49m\u001b[43m \u001b[49m\u001b[38;5;28;43mself\u001b[39;49m\u001b[38;5;241;43m.\u001b[39;49m\u001b[43m_obj_with_exclusions\u001b[49m\u001b[43m)\u001b[49m\n\u001b[0;32m   1848\u001b[0m \u001b[38;5;28;01mreturn\u001b[39;00m result\n",
      "File \u001b[1;32mc:\\Users\\umber\\OneDrive\\Documents\\Research\\minds\\ahba\\Lib\\site-packages\\pandas\\core\\groupby\\groupby.py:1885\u001b[0m, in \u001b[0;36mGroupBy._python_apply_general\u001b[1;34m(self, f, data, not_indexed_same, is_transform, is_agg)\u001b[0m\n\u001b[0;32m   1850\u001b[0m \u001b[38;5;129m@final\u001b[39m\n\u001b[0;32m   1851\u001b[0m \u001b[38;5;28;01mdef\u001b[39;00m \u001b[38;5;21m_python_apply_general\u001b[39m(\n\u001b[0;32m   1852\u001b[0m     \u001b[38;5;28mself\u001b[39m,\n\u001b[1;32m   (...)\u001b[0m\n\u001b[0;32m   1857\u001b[0m     is_agg: \u001b[38;5;28mbool\u001b[39m \u001b[38;5;241m=\u001b[39m \u001b[38;5;28;01mFalse\u001b[39;00m,\n\u001b[0;32m   1858\u001b[0m ) \u001b[38;5;241m-\u001b[39m\u001b[38;5;241m>\u001b[39m NDFrameT:\n\u001b[0;32m   1859\u001b[0m \u001b[38;5;250m    \u001b[39m\u001b[38;5;124;03m\"\"\"\u001b[39;00m\n\u001b[0;32m   1860\u001b[0m \u001b[38;5;124;03m    Apply function f in python space\u001b[39;00m\n\u001b[0;32m   1861\u001b[0m \n\u001b[1;32m   (...)\u001b[0m\n\u001b[0;32m   1883\u001b[0m \u001b[38;5;124;03m        data after applying f\u001b[39;00m\n\u001b[0;32m   1884\u001b[0m \u001b[38;5;124;03m    \"\"\"\u001b[39;00m\n\u001b[1;32m-> 1885\u001b[0m     values, mutated \u001b[38;5;241m=\u001b[39m \u001b[38;5;28;43mself\u001b[39;49m\u001b[38;5;241;43m.\u001b[39;49m\u001b[43m_grouper\u001b[49m\u001b[38;5;241;43m.\u001b[39;49m\u001b[43mapply_groupwise\u001b[49m\u001b[43m(\u001b[49m\u001b[43mf\u001b[49m\u001b[43m,\u001b[49m\u001b[43m \u001b[49m\u001b[43mdata\u001b[49m\u001b[43m,\u001b[49m\u001b[43m \u001b[49m\u001b[38;5;28;43mself\u001b[39;49m\u001b[38;5;241;43m.\u001b[39;49m\u001b[43maxis\u001b[49m\u001b[43m)\u001b[49m\n\u001b[0;32m   1886\u001b[0m     \u001b[38;5;28;01mif\u001b[39;00m not_indexed_same \u001b[38;5;129;01mis\u001b[39;00m \u001b[38;5;28;01mNone\u001b[39;00m:\n\u001b[0;32m   1887\u001b[0m         not_indexed_same \u001b[38;5;241m=\u001b[39m mutated\n",
      "File \u001b[1;32mc:\\Users\\umber\\OneDrive\\Documents\\Research\\minds\\ahba\\Lib\\site-packages\\pandas\\core\\groupby\\ops.py:918\u001b[0m, in \u001b[0;36mBaseGrouper.apply_groupwise\u001b[1;34m(self, f, data, axis)\u001b[0m\n\u001b[0;32m    916\u001b[0m \u001b[38;5;66;03m# group might be modified\u001b[39;00m\n\u001b[0;32m    917\u001b[0m group_axes \u001b[38;5;241m=\u001b[39m group\u001b[38;5;241m.\u001b[39maxes\n\u001b[1;32m--> 918\u001b[0m res \u001b[38;5;241m=\u001b[39m \u001b[43mf\u001b[49m\u001b[43m(\u001b[49m\u001b[43mgroup\u001b[49m\u001b[43m)\u001b[49m\n\u001b[0;32m    919\u001b[0m \u001b[38;5;28;01mif\u001b[39;00m \u001b[38;5;129;01mnot\u001b[39;00m mutated \u001b[38;5;129;01mand\u001b[39;00m \u001b[38;5;129;01mnot\u001b[39;00m _is_indexed_like(res, group_axes, axis):\n\u001b[0;32m    920\u001b[0m     mutated \u001b[38;5;241m=\u001b[39m \u001b[38;5;28;01mTrue\u001b[39;00m\n",
      "File \u001b[1;32mc:\\Users\\umber\\OneDrive\\Documents\\Research\\minds\\ahba\\Lib\\site-packages\\abagen\\probes_.py:374\u001b[0m, in \u001b[0;36m_max_loading\u001b[1;34m(df)\u001b[0m\n\u001b[0;32m    370\u001b[0m data \u001b[38;5;241m=\u001b[39m data \u001b[38;5;241m-\u001b[39m data\u001b[38;5;241m.\u001b[39mmean(axis\u001b[38;5;241m=\u001b[39m\u001b[38;5;241m0\u001b[39m, keepdims\u001b[38;5;241m=\u001b[39m\u001b[38;5;28;01mTrue\u001b[39;00m)\n\u001b[0;32m    372\u001b[0m \u001b[38;5;66;03m# svd() is faster than eig() here because we don't need to construct the\u001b[39;00m\n\u001b[0;32m    373\u001b[0m \u001b[38;5;66;03m# covariance matrix\u001b[39;00m\n\u001b[1;32m--> 374\u001b[0m u, s, v \u001b[38;5;241m=\u001b[39m \u001b[43mnp\u001b[49m\u001b[38;5;241;43m.\u001b[39;49m\u001b[43mlinalg\u001b[49m\u001b[38;5;241;43m.\u001b[39;49m\u001b[43msvd\u001b[49m\u001b[43m(\u001b[49m\u001b[43mdata\u001b[49m\u001b[43m,\u001b[49m\u001b[43m \u001b[49m\u001b[43mfull_matrices\u001b[49m\u001b[38;5;241;43m=\u001b[39;49m\u001b[38;5;28;43;01mFalse\u001b[39;49;00m\u001b[43m)\u001b[49m\n\u001b[0;32m    376\u001b[0m \u001b[38;5;66;03m# use sign flip based on right singular vectors (as we would with eig())\u001b[39;00m\n\u001b[0;32m    377\u001b[0m v \u001b[38;5;241m*\u001b[39m\u001b[38;5;241m=\u001b[39m np\u001b[38;5;241m.\u001b[39msign(v[\u001b[38;5;28mrange\u001b[39m(\u001b[38;5;28mlen\u001b[39m(v)), np\u001b[38;5;241m.\u001b[39margmax(np\u001b[38;5;241m.\u001b[39mabs(v), axis\u001b[38;5;241m=\u001b[39m\u001b[38;5;241m1\u001b[39m)])[:, np\u001b[38;5;241m.\u001b[39mnewaxis]\n",
      "File \u001b[1;32mc:\\Users\\umber\\OneDrive\\Documents\\Research\\minds\\ahba\\Lib\\site-packages\\numpy\\linalg\\linalg.py:1681\u001b[0m, in \u001b[0;36msvd\u001b[1;34m(a, full_matrices, compute_uv, hermitian)\u001b[0m\n\u001b[0;32m   1678\u001b[0m         gufunc \u001b[38;5;241m=\u001b[39m _umath_linalg\u001b[38;5;241m.\u001b[39msvd_n_s\n\u001b[0;32m   1680\u001b[0m signature \u001b[38;5;241m=\u001b[39m \u001b[38;5;124m'\u001b[39m\u001b[38;5;124mD->DdD\u001b[39m\u001b[38;5;124m'\u001b[39m \u001b[38;5;28;01mif\u001b[39;00m isComplexType(t) \u001b[38;5;28;01melse\u001b[39;00m \u001b[38;5;124m'\u001b[39m\u001b[38;5;124md->ddd\u001b[39m\u001b[38;5;124m'\u001b[39m\n\u001b[1;32m-> 1681\u001b[0m u, s, vh \u001b[38;5;241m=\u001b[39m \u001b[43mgufunc\u001b[49m\u001b[43m(\u001b[49m\u001b[43ma\u001b[49m\u001b[43m,\u001b[49m\u001b[43m \u001b[49m\u001b[43msignature\u001b[49m\u001b[38;5;241;43m=\u001b[39;49m\u001b[43msignature\u001b[49m\u001b[43m,\u001b[49m\u001b[43m \u001b[49m\u001b[43mextobj\u001b[49m\u001b[38;5;241;43m=\u001b[39;49m\u001b[43mextobj\u001b[49m\u001b[43m)\u001b[49m\n\u001b[0;32m   1682\u001b[0m u \u001b[38;5;241m=\u001b[39m u\u001b[38;5;241m.\u001b[39mastype(result_t, copy\u001b[38;5;241m=\u001b[39m\u001b[38;5;28;01mFalse\u001b[39;00m)\n\u001b[0;32m   1683\u001b[0m s \u001b[38;5;241m=\u001b[39m s\u001b[38;5;241m.\u001b[39mastype(_realType(result_t), copy\u001b[38;5;241m=\u001b[39m\u001b[38;5;28;01mFalse\u001b[39;00m)\n",
      "\u001b[1;31mKeyboardInterrupt\u001b[0m: "
     ]
    }
   ],
   "source": [
    "# Example of representative probe selection\n",
    "exp_pc_load = abagen.get_expression_data(atlas['image'], probe_selection='pc_loading')"
   ]
  },
  {
   "cell_type": "markdown",
   "metadata": {},
   "source": [
    "#### Collapsing Across Probes"
   ]
  },
  {
   "cell_type": "markdown",
   "metadata": {},
   "source": [
    "An average for all probe expression values can be taken using the ```average``` parameter."
   ]
  },
  {
   "cell_type": "code",
   "execution_count": null,
   "metadata": {},
   "outputs": [],
   "source": [
    "exp_pc_load = abagen.get_expression_data(atlas['image'], probe_selection='average')"
   ]
  },
  {
   "cell_type": "markdown",
   "metadata": {},
   "source": [
    "## Donor Aggregation with Probe Selection"
   ]
  },
  {
   "cell_type": "markdown",
   "metadata": {},
   "source": [
    "By default, probe selection is performed using aggregated data across all donor samples. Donor-specific probe selection can be performed using the ```donor_probes``` argument, which takes the following three options:\n",
    "1. ```aggregate```: Aggregate tissue samples across all donors and apply the selected ```probe_selection``` method to the aggregate sample matrix.\n",
    "2. ```independent```: Perform the chosen ```probe_selection``` method for each donor seperately. Cannot be used with ```diff_stability```, ```rnaseq```, or ```average```.\n",
    "3. ```common```: Perform the chosen ```probe_selection``` method for each donor, then use the most commonly-selected probe to represent each gene."
   ]
  },
  {
   "cell_type": "code",
   "execution_count": null,
   "metadata": {},
   "outputs": [],
   "source": [
    "exp_cmn_rna = abagen.get_expression_data(atlas['image'], donor_probes='common', probe_selection='rnaseq')"
   ]
  },
  {
   "cell_type": "markdown",
   "metadata": {},
   "source": [
    "## Data Normalization"
   ]
  },
  {
   "cell_type": "markdown",
   "metadata": {},
   "source": [
    "The abagen library supports nine options for dataset normalization, though the default ```scaled_robust_sigmoid``` option is recommended by the official [abagen docs](https://abagen.readthedocs.io/en/stable/user_guide/normalization.html). Data normalization options are as follows:\n",
    "1. Centering: ```center```\n",
    "2. Z-score: ```zscore```\n",
    "3. Min-max: ```minmax```\n",
    "4. Sigmoid: ```sigmoid```\n",
    "5. Scaled Sigmoid: ```scaled_sigmoid```\n",
    "6. Scaled Sigmoid Quantiles: ```scaled_sigmoid_quantiles```\n",
    "7. Robust Sigmoid: ```robust_sigmoid```\n",
    "8. Scaled Robust Sigmoid: ```scaled_robust_sigmoid```\n",
    "9. Mixed Sigmoid: ```mixed_sigmoid```\n",
    "\n",
    "Providing a value of ```None``` prevents data normalization.\n",
    "\n",
    "Normalization can be accomplished in two directions: \n",
    "1. Each sample can be normalized across all genes (```gene_norm```).\n",
    "2. Each sample can be normalized across all samples (```sample_norm```)."
   ]
  },
  {
   "cell_type": "code",
   "execution_count": null,
   "metadata": {},
   "outputs": [],
   "source": [
    "# Use z-score normalization across all samples\n",
    "exp_norm_zscore = abagen.get_expression_data(atlas['image'], sample_norm='zscore')"
   ]
  },
  {
   "cell_type": "markdown",
   "metadata": {},
   "source": [
    "## Reporting"
   ]
  },
  {
   "cell_type": "markdown",
   "metadata": {},
   "source": [
    "Based on the selected parameters, abagen can generate a report that details each processing step done to the AHBA dataset."
   ]
  },
  {
   "cell_type": "code",
   "execution_count": null,
   "metadata": {},
   "outputs": [],
   "source": [
    "report = reporting.Report(atlas['image'], atlas['info']).gen_report()\n",
    "print(report)"
   ]
  },
  {
   "cell_type": "markdown",
   "metadata": {},
   "source": [
    "## Probe Data"
   ]
  },
  {
   "cell_type": "code",
   "execution_count": null,
   "metadata": {},
   "outputs": [],
   "source": [
    "files = abagen.fetch_microarray(donors='all', data_dir='./data')"
   ]
  },
  {
   "cell_type": "code",
   "execution_count": null,
   "metadata": {},
   "outputs": [],
   "source": [
    "# Each donor file contains a probe count of 352,152\n",
    "for donor in files:\n",
    "    print(f\"Donor {donor} probe count: {abagen.io.read_probes(files[donor]['probes']).size}\")"
   ]
  },
  {
   "cell_type": "markdown",
   "metadata": {},
   "source": [
    "## PCA & Clustering Analysis"
   ]
  },
  {
   "cell_type": "markdown",
   "metadata": {},
   "source": [
    "See the following [365 Data Science](https://365datascience.com/tutorials/python-tutorials/pca-k-means/) guide for more information regarding PCA-based clustering."
   ]
  },
  {
   "cell_type": "code",
   "execution_count": null,
   "metadata": {},
   "outputs": [],
   "source": [
    "import numpy as np\n",
    "import pandas as pd\n",
    "import matplotlib.pyplot as plt\n",
    "import seaborn as sns\n",
    "sns.set_theme()\n",
    "from sklearn.preprocessing import StandardScaler\n",
    "from sklearn.cluster import KMeans\n",
    "from sklearn.decomposition import PCA"
   ]
  },
  {
   "cell_type": "code",
   "execution_count": 51,
   "metadata": {},
   "outputs": [
    {
     "name": "stderr",
     "output_type": "stream",
     "text": [
      "c:\\Users\\umber\\OneDrive\\Documents\\Research\\minds\\ahba\\Lib\\site-packages\\abagen\\probes_.py:147: FutureWarning: DataFrame.groupby with axis=1 is deprecated. Do `frame.T.groupby(...)` without axis instead.\n",
      "  return io.read_microarray(microarray).groupby(sid, axis=1).mean()\n",
      "c:\\Users\\umber\\OneDrive\\Documents\\Research\\minds\\ahba\\Lib\\site-packages\\abagen\\probes_.py:147: FutureWarning: DataFrame.groupby with axis=1 is deprecated. Do `frame.T.groupby(...)` without axis instead.\n",
      "  return io.read_microarray(microarray).groupby(sid, axis=1).mean()\n",
      "c:\\Users\\umber\\OneDrive\\Documents\\Research\\minds\\ahba\\Lib\\site-packages\\abagen\\allen.py:493: FutureWarning: Setting an item of incompatible dtype is deprecated and will raise an error in a future version of pandas. Value '[  8   4   5   2   4  15   8  17   3   2   6   5   5  13   3   4   7   3\n",
      "   2   9   5  14   1   2   6  15   6  20   5   2   2   5  28   7  17   6\n",
      "   1  38   6   2   3   2   1   3  19   4  22   4   5   9   5   8  18   3\n",
      "   7   2   3   4   1  16   5  14   4   2  16  13   3  16   4   1   8  32\n",
      "   7  14   7   1  34   1 148]' has dtype incompatible with int32, please explicitly cast to a compatible dtype first.\n",
      "  counts.loc[labs, subj] = num\n",
      "c:\\Users\\umber\\OneDrive\\Documents\\Research\\minds\\ahba\\Lib\\site-packages\\abagen\\allen.py:493: FutureWarning: Setting an item of incompatible dtype is deprecated and will raise an error in a future version of pandas. Value '[  2   1   3   3   2   8  10   8   1   8   6   7   6   7   2   7   2   4\n",
      "   2   5   6  10   4   5  10  16   9   6   4   4   4   3  29   4   9   2\n",
      "   4  26   1   4   2   6   1   2  11   7  15   2   5   6   4  11  10   4\n",
      "   4   3   2   5   2  13   7   5   6   3  10  10   6   6   3   6  33   9\n",
      "   9   4   3  38   5 159]' has dtype incompatible with int32, please explicitly cast to a compatible dtype first.\n",
      "  counts.loc[labs, subj] = num\n",
      "c:\\Users\\umber\\OneDrive\\Documents\\Research\\minds\\ahba\\Lib\\site-packages\\abagen\\samples_.py:405: FutureWarning: The provided callable <function mean at 0x000002BB3A960F40> is currently using DataFrameGroupBy.mean. In a future version of pandas, the provided callable will be used directly. To keep current behavior pass the string \"mean\" instead.\n",
      "  microarray.groupby('label').aggregate(metric),\n",
      "c:\\Users\\umber\\OneDrive\\Documents\\Research\\minds\\ahba\\Lib\\site-packages\\abagen\\samples_.py:404: FutureWarning: The behavior of DataFrame concatenation with empty or all-NA entries is deprecated. In a future version, this will no longer exclude empty or all-NA columns when determining the result dtypes. To retain the old behavior, exclude the relevant entries before the concat operation.\n",
      "  gene_by_label = pd.concat([\n",
      "c:\\Users\\umber\\OneDrive\\Documents\\Research\\minds\\ahba\\Lib\\site-packages\\abagen\\samples_.py:405: FutureWarning: The provided callable <function mean at 0x000002BB3A960F40> is currently using DataFrameGroupBy.mean. In a future version of pandas, the provided callable will be used directly. To keep current behavior pass the string \"mean\" instead.\n",
      "  microarray.groupby('label').aggregate(metric),\n",
      "c:\\Users\\umber\\OneDrive\\Documents\\Research\\minds\\ahba\\Lib\\site-packages\\abagen\\samples_.py:404: FutureWarning: The behavior of DataFrame concatenation with empty or all-NA entries is deprecated. In a future version, this will no longer exclude empty or all-NA columns when determining the result dtypes. To retain the old behavior, exclude the relevant entries before the concat operation.\n",
      "  gene_by_label = pd.concat([\n",
      "c:\\Users\\umber\\OneDrive\\Documents\\Research\\minds\\ahba\\Lib\\site-packages\\abagen\\samples_.py:481: FutureWarning: The provided callable <function mean at 0x000002BB3A960F40> is currently using DataFrameGroupBy.mean. In a future version of pandas, the provided callable will be used directly. To keep current behavior pass the string \"mean\" instead.\n",
      "  microarray = pd.concat(microarray).groupby('label').aggregate(metric)\n"
     ]
    },
    {
     "data": {
      "text/plain": [
       "pandas.core.frame.DataFrame"
      ]
     },
     "execution_count": 51,
     "metadata": {},
     "output_type": "execute_result"
    }
   ],
   "source": [
    "atlas = abagen.fetch_desikan_killiany()\n",
    "expression = abagen.get_expression_data(atlas['image'], atlas['info'], donors=['9861', '10021'], missing='centroids')"
   ]
  },
  {
   "cell_type": "code",
   "execution_count": 50,
   "metadata": {},
   "outputs": [
    {
     "data": {
      "text/plain": [
       "Text(0, 0.5, 'A2M')"
      ]
     },
     "execution_count": 50,
     "metadata": {},
     "output_type": "execute_result"
    },
    {
     "data": {
      "image/png": "[encoded data removed]",
      "text/plain": [
       "<Figure size 1200x900 with 1 Axes>"
      ]
     },
     "metadata": {},
     "output_type": "display_data"
    }
   ],
   "source": [
    "# Plot gene A2M with respect to gene A1BG\n",
    "# Each data point corresponds to a parcellation\n",
    "plt.figure(figsize=(12, 9))\n",
    "plt.scatter(expression.iloc[:, 0], expression.iloc[:, 2])\n",
    "plt.xlabel('A1BG')\n",
    "plt.ylabel('A2M')"
   ]
  },
  {
   "cell_type": "markdown",
   "metadata": {},
   "source": [
    "#### Data Preprocessing"
   ]
  },
  {
   "cell_type": "code",
   "execution_count": null,
   "metadata": {},
   "outputs": [],
   "source": [
    "scaler = StandardScaler()\n",
    "expression_std = scaler.fit_transform(expression)"
   ]
  },
  {
   "cell_type": "markdown",
   "metadata": {},
   "source": [
    "#### PCA"
   ]
  },
  {
   "cell_type": "code",
   "execution_count": null,
   "metadata": {},
   "outputs": [],
   "source": [
    "pca = PCA()\n",
    "pca.fit(expression_std)\n",
    "# Explains how much variance is explained by each component/gene\n",
    "pca.explained_variance_ratio_"
   ]
  },
  {
   "cell_type": "code",
   "execution_count": null,
   "metadata": {},
   "outputs": [],
   "source": [
    "plt.figure(figsize=(10,8))\n",
    "plt.plot(range(1, 84), pca.explained_variance_ratio_.cumsum(), marker='o', linestyle='--')\n",
    "plt.title('Explained Variance by Components (Genes)')\n",
    "plt.xlabel('Number of Components')\n",
    "plt.ylabel('Explained Variance (Cumulative)')"
   ]
  },
  {
   "cell_type": "code",
   "execution_count": null,
   "metadata": {},
   "outputs": [],
   "source": [
    "# We'd like to capture ~80% of our variance, so we'll keep nine components\n",
    "pca = PCA(n_components = 9)\n",
    "pca.fit(expression_std)\n",
    "scores_pca = pca.transform(expression_std)\n",
    "\n",
    "# Fit K-Means using PCA data\n",
    "wcss = []\n",
    "\n",
    "N_CLUSTERS = 20\n",
    "for i in range(1, N_CLUSTERS + 1):\n",
    "    kmeans_pca = KMeans(n_clusters = i, init = 'k-means++', random_state = 21)\n",
    "    kmeans_pca.fit(scores_pca)\n",
    "    wcss.append(kmeans_pca.inertia_)"
   ]
  },
  {
   "cell_type": "code",
   "execution_count": null,
   "metadata": {},
   "outputs": [],
   "source": [
    "plt.figure(figsize = (10, 8))\n",
    "plt.plot(range(1, N_CLUSTERS + 1), wcss, marker = 'o', linestyle = '--')"
   ]
  },
  {
   "cell_type": "code",
   "execution_count": null,
   "metadata": {},
   "outputs": [],
   "source": [
    "# Given the graph above, we'd like to keep seven clusters (see Elbow Method for K-means Clustering)\n",
    "N_CLUSTERS = 7\n",
    "kmeans_pca = KMeans(n_clusters = N_CLUSTERS, init='k-means++', random_state = 21)\n",
    "kmeans_pca.fit(scores_pca)"
   ]
  },
  {
   "cell_type": "code",
   "execution_count": null,
   "metadata": {},
   "outputs": [],
   "source": [
    "# Create a new data frame with the original features and add the PCA scores and assigned clusters\n",
    "exp_pca_kmeans = pd.concat([expression.reset_index(drop = True), pd.DataFrame(scores_pca)], axis = 1)\n",
    "exp_pca_kmeans.columns.values[-9: ] = ['Component 1', 'Component 2', 'Component 3', \n",
    "                                       'Component 4', 'Component 5', 'Component 6', \n",
    "                                       'Component 7', 'Component 8', 'Component 9']\n",
    "\n",
    "# Add the PCA K-means Clustering labels\n",
    "exp_pca_kmeans['Expression K-Means PCA'] = kmeans_pca.labels_"
   ]
  },
  {
   "cell_type": "code",
   "execution_count": null,
   "metadata": {},
   "outputs": [],
   "source": [
    "exp_pca_kmeans['Expression'] = exp_pca_kmeans['Expression K-Means PCA'].map({0:'first', 1:'second', 2:'third', 3:'fourth', \n",
    "                                                                            4:'fifth', 5:'sixth', 6:'seventh'})"
   ]
  },
  {
   "cell_type": "code",
   "execution_count": null,
   "metadata": {},
   "outputs": [],
   "source": [
    "# Plot data using the two PCA components with largest variance\n",
    "x_axis = exp_pca_kmeans['Component 2']\n",
    "y_axis = exp_pca_kmeans['Component 1']\n",
    "plt.figure(figsize=(10, 8))\n",
    "sns.scatterplot(x = x_axis, y = y_axis, hue = exp_pca_kmeans['Expression'])\n",
    "plt.title('Clusters by PCA Components')\n",
    "plt.show()"
   ]
  },
  {
   "cell_type": "markdown",
   "metadata": {},
   "source": [
    "## Nilearn Plotting"
   ]
  },
  {
   "cell_type": "code",
   "execution_count": 49,
   "metadata": {},
   "outputs": [
    {
     "data": {
      "image/png": "[encoded data removed]",
      "text/plain": [
       "<Figure size 730x350 with 5 Axes>"
      ]
     },
     "metadata": {},
     "output_type": "display_data"
    }
   ],
   "source": [
    "from nilearn.plotting import plot_stat_map\n",
    "\n",
    "atlas = abagen.fetch_desikan_killiany()\n",
    "im = nib.load(atlas['image'])\n",
    "\n",
    "display = plot_stat_map(im)"
   ]
  }
 ],
 "metadata": {
  "kernelspec": {
   "display_name": "ahba",
   "language": "python",
   "name": "ahba"
  },
  "language_info": {
   "codemirror_mode": {
    "name": "ipython",
    "version": 3
   },
   "file_extension": ".py",
   "mimetype": "text/x-python",
   "name": "python",
   "nbconvert_exporter": "python",
   "pygments_lexer": "ipython3",
   "version": "3.12.0"
  }
 },
 "nbformat": 4,
 "nbformat_minor": 2
}
